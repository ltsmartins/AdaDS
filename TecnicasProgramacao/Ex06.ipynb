{
 "cells": [
  {
   "cell_type": "code",
   "execution_count": 188,
   "metadata": {},
   "outputs": [
    {
     "data": {
      "text/html": [
       "<div>\n",
       "<style scoped>\n",
       "    .dataframe tbody tr th:only-of-type {\n",
       "        vertical-align: middle;\n",
       "    }\n",
       "\n",
       "    .dataframe tbody tr th {\n",
       "        vertical-align: top;\n",
       "    }\n",
       "\n",
       "    .dataframe thead th {\n",
       "        text-align: right;\n",
       "    }\n",
       "</style>\n",
       "<table border=\"1\" class=\"dataframe\">\n",
       "  <thead>\n",
       "    <tr style=\"text-align: right;\">\n",
       "      <th></th>\n",
       "      <th>color</th>\n",
       "      <th>director_name</th>\n",
       "      <th>num_critic_for_reviews</th>\n",
       "      <th>duration</th>\n",
       "      <th>gross</th>\n",
       "      <th>movie_title</th>\n",
       "      <th>num_user_for_reviews</th>\n",
       "      <th>country</th>\n",
       "      <th>cotent_rating</th>\n",
       "      <th>budget</th>\n",
       "      <th>title_year</th>\n",
       "      <th>imdb_score</th>\n",
       "      <th>genre</th>\n",
       "    </tr>\n",
       "  </thead>\n",
       "  <tbody>\n",
       "    <tr>\n",
       "      <th>0</th>\n",
       "      <td>Color</td>\n",
       "      <td>James Cameron</td>\n",
       "      <td>723.0</td>\n",
       "      <td>178.0</td>\n",
       "      <td>760505847.0</td>\n",
       "      <td>Avatar</td>\n",
       "      <td>3054.0</td>\n",
       "      <td>USA</td>\n",
       "      <td>PG-13</td>\n",
       "      <td>237000000</td>\n",
       "      <td>2009.0</td>\n",
       "      <td>7.9</td>\n",
       "      <td>Action</td>\n",
       "    </tr>\n",
       "    <tr>\n",
       "      <th>1</th>\n",
       "      <td>Color</td>\n",
       "      <td>Gore Verbinski</td>\n",
       "      <td>302.0</td>\n",
       "      <td>169.0</td>\n",
       "      <td>309404152.0</td>\n",
       "      <td>Pirates of the Caribbean: At World's End</td>\n",
       "      <td>1238.0</td>\n",
       "      <td>USA</td>\n",
       "      <td>PG-13</td>\n",
       "      <td>300000000</td>\n",
       "      <td>2007.0</td>\n",
       "      <td>7.1</td>\n",
       "      <td>Action</td>\n",
       "    </tr>\n",
       "    <tr>\n",
       "      <th>2</th>\n",
       "      <td>Color</td>\n",
       "      <td>Sam Mendes</td>\n",
       "      <td>602.0</td>\n",
       "      <td>148.0</td>\n",
       "      <td>200074175.0</td>\n",
       "      <td>Spectre</td>\n",
       "      <td>994.0</td>\n",
       "      <td>UK</td>\n",
       "      <td>PG-13</td>\n",
       "      <td>245000000</td>\n",
       "      <td>2015.0</td>\n",
       "      <td>6.8</td>\n",
       "      <td>Action</td>\n",
       "    </tr>\n",
       "    <tr>\n",
       "      <th>3</th>\n",
       "      <td>Color</td>\n",
       "      <td>Christopher Nolan</td>\n",
       "      <td>813.0</td>\n",
       "      <td>164.0</td>\n",
       "      <td>448130642.0</td>\n",
       "      <td>The Dark Knight Rises</td>\n",
       "      <td>2701.0</td>\n",
       "      <td>USA</td>\n",
       "      <td>PG-13</td>\n",
       "      <td>250000000</td>\n",
       "      <td>2012.0</td>\n",
       "      <td>8.5</td>\n",
       "      <td>Action</td>\n",
       "    </tr>\n",
       "    <tr>\n",
       "      <th>4</th>\n",
       "      <td>0</td>\n",
       "      <td>Doug Walker</td>\n",
       "      <td>0.0</td>\n",
       "      <td>0.0</td>\n",
       "      <td>0.0</td>\n",
       "      <td>Star Wars: Episode VII - The Force Awakens    ...</td>\n",
       "      <td>0.0</td>\n",
       "      <td>0</td>\n",
       "      <td>0</td>\n",
       "      <td>0</td>\n",
       "      <td>0.0</td>\n",
       "      <td>7.1</td>\n",
       "      <td>Documentary</td>\n",
       "    </tr>\n",
       "  </tbody>\n",
       "</table>\n",
       "</div>"
      ],
      "text/plain": [
       "   color      director_name  num_critic_for_reviews  duration        gross  \\\n",
       "0  Color      James Cameron                   723.0     178.0  760505847.0   \n",
       "1  Color     Gore Verbinski                   302.0     169.0  309404152.0   \n",
       "2  Color         Sam Mendes                   602.0     148.0  200074175.0   \n",
       "3  Color  Christopher Nolan                   813.0     164.0  448130642.0   \n",
       "4      0        Doug Walker                     0.0       0.0          0.0   \n",
       "\n",
       "                                         movie_title  num_user_for_reviews  \\\n",
       "0                                            Avatar                 3054.0   \n",
       "1          Pirates of the Caribbean: At World's End                 1238.0   \n",
       "2                                           Spectre                  994.0   \n",
       "3                             The Dark Knight Rises                 2701.0   \n",
       "4  Star Wars: Episode VII - The Force Awakens    ...                   0.0   \n",
       "\n",
       "  country cotent_rating     budget  title_year  imdb_score        genre  \n",
       "0     USA         PG-13  237000000      2009.0         7.9       Action  \n",
       "1     USA         PG-13  300000000      2007.0         7.1       Action  \n",
       "2      UK         PG-13  245000000      2015.0         6.8       Action  \n",
       "3     USA         PG-13  250000000      2012.0         8.5       Action  \n",
       "4       0             0          0         0.0         7.1  Documentary  "
      ]
     },
     "execution_count": 188,
     "metadata": {},
     "output_type": "execute_result"
    }
   ],
   "source": [
    "import pandas as pd\n",
    "import numpy as np\n",
    "\n",
    "column_names = ['color', 'director_name', 'num_critic_for_reviews', 'duration',\n",
    "                'gross', 'movie_title', 'num_user_for_reviews', 'country',\n",
    "                'cotent_rating', 'budget', 'title_year', 'imdb_score', 'genre']\n",
    "\n",
    "\n",
    "df = pd.read_csv('C:/Users/Jessica/Downloads/movies.csv',\n",
    "                   sep='|',\n",
    "                   header=None,\n",
    "                   names=column_names,\n",
    "                   na_values='?',\n",
    "                   thousands=',',\n",
    "                   \n",
    "                   )\n",
    "df.fillna(0, inplace=True)\n",
    "df['budget'] = df['budget'].astype(int)\n",
    "df.head()"
   ]
  },
  {
   "cell_type": "markdown",
   "metadata": {},
   "source": [
    "#### Faça a leitura do arquivo `movies.csv`\n",
    "\n",
    "column_names = ['color', 'director_name', 'num_critic_for_reviews', 'duration',\n",
    "                'gross', 'movie_title', 'num_user_for_reviews', 'country',\n",
    "                'cotent_rating', 'budget', 'title_year', 'imdb_score', 'genre']\n",
    "\n",
    "1. Qual o filme com o maior lucro?\n",
    "2. Qual o filme que deu o maior prejuízo\n",
    "3. Faça uma plotagem(gráfico) que mostre a distribuição do budget em relação ao ano do titulo(title_year)\n",
    "4. Uma plotagem do genero do filme.\n",
    "5. Quais os 10 melhores filmes(olha aí a lista de indicação do FDS)\n",
    "6. Qual o Genero mais popular e menos popular?\n",
    "7. Existe relação entre os melhores filme e seu Budget?\n",
    "8. Quem é o melhor diretor? Existe uma relação de custo associado ao melhor diretor? Ou seja, o melhor diretor baseado na sua analise é também o diretor que mais gasta?\n",
    "9. Mostre num gráfico a quantidade de filmes ao passar do ano"
   ]
  },
  {
   "cell_type": "markdown",
   "metadata": {},
   "source": [
    "# Exercicio 1 - Filme com maior lucro"
   ]
  },
  {
   "cell_type": "code",
   "execution_count": 176,
   "metadata": {},
   "outputs": [
    {
     "data": {
      "text/plain": [
       "color                             Color\n",
       "director_name             James Cameron\n",
       "num_critic_for_reviews            723.0\n",
       "duration                          178.0\n",
       "gross                       760505847.0\n",
       "movie_title                     Avatar \n",
       "num_user_for_reviews             3054.0\n",
       "country                             USA\n",
       "cotent_rating                     PG-13\n",
       "budget                      237000000.0\n",
       "title_year                       2009.0\n",
       "imdb_score                          7.9\n",
       "genre                            Action\n",
       "lucro                       523505847.0\n",
       "Name: 0, dtype: object"
      ]
     },
     "execution_count": 176,
     "metadata": {},
     "output_type": "execute_result"
    }
   ],
   "source": [
    "#df['gross'] = df['gross'].apply(lambda x: 0 if x == '?' else 0)\n",
    "#Teste ^> df['gross'] = df['gross'].str.replace('?','0')\n",
    "\n",
    "#df['gross'] = df['gross'].astype(float)\n",
    "\n",
    "df['lucro'] = df['gross'] - df['budget']\n",
    "df.sort_values(by='lucro', ascending=False).loc[0]"
   ]
  },
  {
   "cell_type": "markdown",
   "metadata": {},
   "source": [
    "# Exercicio 2 - Filme com maior prejuízo"
   ]
  },
  {
   "cell_type": "code",
   "execution_count": 177,
   "metadata": {},
   "outputs": [
    {
     "data": {
      "text/plain": [
       "color                              Color\n",
       "director_name             Andrew Stanton\n",
       "num_critic_for_reviews             462.0\n",
       "duration                           132.0\n",
       "gross                         73058679.0\n",
       "movie_title                 John Carter \n",
       "num_user_for_reviews               738.0\n",
       "country                              USA\n",
       "cotent_rating                      PG-13\n",
       "budget                       263700000.0\n",
       "title_year                        2012.0\n",
       "imdb_score                           6.6\n",
       "genre                             Action\n",
       "lucro                       -190641321.0\n",
       "Name: 5, dtype: object"
      ]
     },
     "execution_count": 177,
     "metadata": {},
     "output_type": "execute_result"
    }
   ],
   "source": [
    "df.loc[df['lucro'].idxmin()]"
   ]
  }
 ],
 "metadata": {
  "kernelspec": {
   "display_name": "Python 3",
   "language": "python",
   "name": "python3"
  },
  "language_info": {
   "codemirror_mode": {
    "name": "ipython",
    "version": 3
   },
   "file_extension": ".py",
   "mimetype": "text/x-python",
   "name": "python",
   "nbconvert_exporter": "python",
   "pygments_lexer": "ipython3",
   "version": "3.12.5"
  }
 },
 "nbformat": 4,
 "nbformat_minor": 2
}
