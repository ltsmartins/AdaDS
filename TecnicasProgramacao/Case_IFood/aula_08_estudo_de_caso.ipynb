{
 "cells": [
  {
   "cell_type": "markdown",
   "metadata": {},
   "source": [
    "# Case iFood\n"
   ]
  },
  {
   "cell_type": "markdown",
   "metadata": {
    "vscode": {
     "languageId": "plaintext"
    }
   },
   "source": [
    "[Repositório com dados](https://github.com/Victor-cb/case_ifood_aulas.git)"
   ]
  },
  {
   "cell_type": "markdown",
   "metadata": {},
   "source": [
    "## Objetivos\n",
    "\n",
    "\n",
    "* Colocar em prática os conhecimentos adquiridos até aqui\n",
    "\n",
    "* Permitir que cada um avalie sua própria performance detalhadamente\n",
    "\n",
    "* Introduzir a experiência de case interview em Data Science, método comum em processos seletivos (material baseado em um processo seletivo real)\n"
   ]
  },
  {
   "cell_type": "markdown",
   "metadata": {
    "vscode": {
     "languageId": "plaintext"
    }
   },
   "source": [
    "## Dinâmica\n",
    "\n",
    "* O case será realizado em duas fases: \n",
    "  * (I) entendimento do problema e planejamento;\n",
    "* (II) Execução \n",
    "  * Fase I - Entendimento do Problema e Planejamento (Máximo de 25 min)\n",
    "  *  Baixar os arquivos na pasta da aula ou repositório\n",
    "     *  pdf: contém a descrição (em inglês) do case, seus objetivos e informações sobre os dados\n",
    "     *  csv: base de dados de referência para a realização do case\n",
    "\n",
    "* Construir um roteiro de análise (planejamento) para solução do problema, individualmente. O roteiro deve ser no formato de \n",
    "* Tarefa: Descrição da tarefa\n",
    "* Sub-tarefa1: Descrição/Justificativa\n",
    "* Sub-tarefa2: Descrição/Justificativa\n",
    "* Fase II - Execução (1h:40min)\n",
    "* Cada aluno terá até 1h:40min para desenvolver a solução do case individualmente\n",
    "* Ao final do tempo (aprox. às 21h:15min), deverá  anexar sua solução no drive\n",
    "\n",
    "\n"
   ]
  },
  {
   "cell_type": "markdown",
   "metadata": {
    "vscode": {
     "languageId": "plaintext"
    }
   },
   "source": [
    "### Dicas\n",
    "\n",
    "- Fase I\n",
    "- Garanta que entendeu o problema, faça uma definição simples e objetiva\n",
    "- Procure organizar as atividades que irá realizar.\n",
    "\n",
    "- Fase II\n",
    "- Comece entendendo o dataset: do que se tratam os dados? Qual a unidade de análise?\n",
    "- Entenda melhor as features disponíveis\n",
    "- Verifique se as informações são consistentes\n",
    "- Que tipo de informação podemos derivar dos dados disponíveis?\n",
    "- Quais tratamentos podemos realizar?\n",
    "- Como comunicar nossos achados (storytelling)?\n"
   ]
  }
 ],
 "metadata": {
  "language_info": {
   "name": "python"
  }
 },
 "nbformat": 4,
 "nbformat_minor": 2
}
